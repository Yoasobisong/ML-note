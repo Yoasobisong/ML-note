{
 "cells": [
  {
   "cell_type": "code",
   "execution_count": 1,
   "metadata": {},
   "outputs": [],
   "source": [
    "import numpy as np"
   ]
  },
  {
   "cell_type": "code",
   "execution_count": 2,
   "metadata": {},
   "outputs": [
    {
     "name": "stdout",
     "output_type": "stream",
     "text": [
      "[1. 2. 3. 4. 5.]\n",
      "[[ 1.  2.  3.  4.  5.]\n",
      " [ 6.  7.  8.  9. 10.]]\n",
      "[1.  2.5 4.  5.5 7.  8.5]\n"
     ]
    }
   ],
   "source": [
    "one_dimen_array = np.array([1., 2., 3., 4., 5.])\n",
    "two_dimen_array = np.array([[1., 2., 3., 4., 5.],\n",
    "                           [6., 7., 8., 9., 10.]])\n",
    "sequency_array = np.arange(start=1, stop=10, step=1.5, dtype=np.float32)\n",
    "\n",
    "print(one_dimen_array)\n",
    "print(two_dimen_array)\n",
    "print(sequency_array)\n"
   ]
  },
  {
   "cell_type": "markdown",
   "metadata": {},
   "source": [
    "### np.random"
   ]
  },
  {
   "cell_type": "markdown",
   "metadata": {},
   "source": [
    "#### randint"
   ]
  },
  {
   "cell_type": "code",
   "execution_count": 3,
   "metadata": {},
   "outputs": [
    {
     "name": "stdout",
     "output_type": "stream",
     "text": [
      "[8 8 9 0 2 3]\n"
     ]
    }
   ],
   "source": [
    "random_array = np.random.randint(low=0, high=10, size=(6,))\n",
    "print(random_array)\n",
    "\n"
   ]
  },
  {
   "cell_type": "markdown",
   "metadata": {},
   "source": [
    "#### random"
   ]
  },
  {
   "cell_type": "code",
   "execution_count": 4,
   "metadata": {},
   "outputs": [
    {
     "name": "stdout",
     "output_type": "stream",
     "text": [
      "[0.34367498 0.68640053 0.80549338 0.83807405 0.41058042 0.67122161]\n"
     ]
    }
   ],
   "source": [
    "random_float_array = np.random.random(size=(6,))\n",
    "print(random_float_array)\n",
    "\n",
    "\n"
   ]
  },
  {
   "cell_type": "markdown",
   "metadata": {},
   "source": [
    "### Mathematical operations"
   ]
  },
  {
   "cell_type": "code",
   "execution_count": 5,
   "metadata": {},
   "outputs": [
    {
     "name": "stdout",
     "output_type": "stream",
     "text": [
      "[10 10 11  2  4  5]\n"
     ]
    }
   ],
   "source": [
    "add2_array = random_array + 2\n",
    "print(add2_array)\n",
    "\n",
    "\n"
   ]
  },
  {
   "cell_type": "code",
   "execution_count": 6,
   "metadata": {},
   "outputs": [
    {
     "name": "stdout",
     "output_type": "stream",
     "text": [
      "[16 16 18  0  4  6]\n"
     ]
    }
   ],
   "source": [
    "mul2_array = random_array * 2\n",
    "print(mul2_array)\n",
    "\n"
   ]
  },
  {
   "cell_type": "markdown",
   "metadata": {},
   "source": [
    "## Additional"
   ]
  },
  {
   "cell_type": "markdown",
   "metadata": {},
   "source": [
    "#### array create"
   ]
  },
  {
   "cell_type": "code",
   "execution_count": 7,
   "metadata": {},
   "outputs": [
    {
     "name": "stdout",
     "output_type": "stream",
     "text": [
      "[0. 0. 0. 0. 0. 0.]\n",
      "[1. 1. 1. 1. 1. 1.]\n",
      "[[10 10 10]\n",
      " [10 10 10]\n",
      " [10 10 10]\n",
      " [10 10 10]\n",
      " [10 10 10]\n",
      " [10 10 10]]\n",
      "[[1. 0. 0.]\n",
      " [0. 1. 0.]\n",
      " [0. 0. 1.]\n",
      " [0. 0. 0.]\n",
      " [0. 0. 0.]\n",
      " [0. 0. 0.]]\n"
     ]
    }
   ],
   "source": [
    "zero_array = np.zeros(shape=(6,))\n",
    "one_array = np.ones(shape=(6,))\n",
    "full_array = np.full(shape=(6,3), fill_value=10)\n",
    "eye_array = np.eye(N=6, M=3, k=0)\n",
    "\n",
    "print(zero_array)\n",
    "print(one_array)\n",
    "print(full_array)\n",
    "print(eye_array)\n",
    "\n"
   ]
  },
  {
   "cell_type": "markdown",
   "metadata": {},
   "source": [
    "#### array operate"
   ]
  },
  {
   "cell_type": "code",
   "execution_count": 8,
   "metadata": {},
   "outputs": [
    {
     "name": "stdout",
     "output_type": "stream",
     "text": [
      "[[0.42910872 0.56632823]\n",
      " [0.59069134 0.38304285]\n",
      " [0.41015547 0.61484729]\n",
      " [0.70016229 0.44782909]\n",
      " [0.36704986 0.6296514 ]\n",
      " [0.54789975 0.5294917 ]]\n",
      "[[0.42910872 0.56632823 0.59069134 0.38304285 0.41015547 0.61484729\n",
      "  0.70016229 0.44782909 0.36704986 0.6296514  0.54789975 0.5294917 ]]\n"
     ]
    }
   ],
   "source": [
    "a = np.random.random(size=(6, 2))\n",
    "print(a)    \n",
    "print(np.reshape(a, newshape=(1, 12)))\n"
   ]
  },
  {
   "cell_type": "code",
   "execution_count": 9,
   "metadata": {},
   "outputs": [
    {
     "data": {
      "text/plain": [
       "array([0.42910872, 0.56632823, 0.59069134, 0.38304285, 0.41015547,\n",
       "       0.61484729, 0.70016229, 0.44782909, 0.36704986, 0.6296514 ,\n",
       "       0.54789975, 0.5294917 ])"
      ]
     },
     "execution_count": 9,
     "metadata": {},
     "output_type": "execute_result"
    }
   ],
   "source": [
    "np.ravel(a)"
   ]
  },
  {
   "cell_type": "code",
   "execution_count": 10,
   "metadata": {},
   "outputs": [
    {
     "data": {
      "text/plain": [
       "array([[0.42910872, 0.59069134, 0.41015547, 0.70016229, 0.36704986,\n",
       "        0.54789975],\n",
       "       [0.56632823, 0.38304285, 0.61484729, 0.44782909, 0.6296514 ,\n",
       "        0.5294917 ]])"
      ]
     },
     "execution_count": 10,
     "metadata": {},
     "output_type": "execute_result"
    }
   ],
   "source": [
    "np.transpose(a)"
   ]
  },
  {
   "cell_type": "markdown",
   "metadata": {},
   "source": [
    "#### mathematical operate"
   ]
  },
  {
   "cell_type": "code",
   "execution_count": 11,
   "metadata": {},
   "outputs": [
    {
     "name": "stdout",
     "output_type": "stream",
     "text": [
      "[[0.53523377 1.13536575]\n",
      " [1.38238055 1.24659237]\n",
      " [0.51637694 0.75899568]\n",
      " [1.27509829 0.7527126 ]\n",
      " [1.03796018 1.26203938]\n",
      " [1.07568212 0.76417025]]\n",
      "[[ 0.32298367 -0.0027093 ]\n",
      " [-0.20099786 -0.48050667]\n",
      " [ 0.30393401  0.4706989 ]\n",
      " [ 0.12522628  0.14294559]\n",
      " [-0.30386045 -0.00273659]\n",
      " [ 0.02011737  0.29481314]]\n",
      "[[0.04553918 0.32226201]\n",
      " [0.46764396 0.33077647]\n",
      " [0.04356731 0.08862925]\n",
      " [0.40254851 0.13653571]\n",
      " [0.24625754 0.39818398]\n",
      " [0.28917183 0.12426035]]\n",
      "[[4.04342542 0.99523881]\n",
      " [0.74611519 0.4435679 ]\n",
      " [3.86132389 4.2653775 ]\n",
      " [1.21780908 1.46885313]\n",
      " [0.54709229 0.99567261]\n",
      " [1.0381168  2.25624237]]\n",
      "[[0.66806548 0.3378412  0.16577452]\n",
      " [0.65502692 0.25572223 0.22261673]\n",
      " [0.68762481 0.3617376  0.15948735]\n",
      " [0.7722826  0.29984042 0.2637863 ]\n",
      " [0.66835484 0.36564771 0.14384368]\n",
      " [0.72381288 0.32915661 0.2089413 ]]\n"
     ]
    }
   ],
   "source": [
    "b = np.random.random(size=(6, 2))\n",
    "print(np.add(a, b))\n",
    "print(np.subtract(a, b))\n",
    "print(np.multiply(a, b))\n",
    "print(np.divide(a, b))\n",
    "c = np.random.random(size=(2, 3))\n",
    "print(np.dot(a, c))\n",
    "\n"
   ]
  },
  {
   "cell_type": "markdown",
   "metadata": {},
   "source": [
    "#### statistics function"
   ]
  },
  {
   "cell_type": "code",
   "execution_count": 12,
   "metadata": {},
   "outputs": [
    {
     "name": "stdout",
     "output_type": "stream",
     "text": [
      "0.5180214990505806\n",
      "0.5386957204057381\n",
      "0.10373430073645686\n",
      "0.010760805149281674\n",
      "6.2162579886069675\n"
     ]
    }
   ],
   "source": [
    "print(np.mean(a))\n",
    "print(np.median(a))\n",
    "print(np.std(a))\n",
    "print(np.var(a))\n",
    "print(np.sum(a))"
   ]
  },
  {
   "cell_type": "markdown",
   "metadata": {},
   "source": [
    "#### linear algebra"
   ]
  },
  {
   "cell_type": "code",
   "execution_count": 14,
   "metadata": {},
   "outputs": [
    {
     "name": "stdout",
     "output_type": "stream",
     "text": [
      "-2.0000000000000004\n",
      "[[-2.   1. ]\n",
      " [ 1.5 -0.5]]\n"
     ]
    }
   ],
   "source": [
    "matrix = np.array([[1, 2], [3, 4]])\n",
    "print(np.linalg.det(matrix))\n",
    "print(np.linalg.inv(matrix))\n"
   ]
  }
 ],
 "metadata": {
  "kernelspec": {
   "display_name": "tf",
   "language": "python",
   "name": "python3"
  },
  "language_info": {
   "codemirror_mode": {
    "name": "ipython",
    "version": 3
   },
   "file_extension": ".py",
   "mimetype": "text/x-python",
   "name": "python",
   "nbconvert_exporter": "python",
   "pygments_lexer": "ipython3",
   "version": "3.8.20"
  }
 },
 "nbformat": 4,
 "nbformat_minor": 2
}

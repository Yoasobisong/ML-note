{
 "cells": [
  {
   "cell_type": "code",
   "execution_count": 2,
   "metadata": {},
   "outputs": [],
   "source": [
    "import numpy as np"
   ]
  },
  {
   "cell_type": "code",
   "execution_count": 12,
   "metadata": {},
   "outputs": [
    {
     "name": "stdout",
     "output_type": "stream",
     "text": [
      "[1. 2. 3. 4. 5.]\n",
      "[[ 1.  2.  3.  4.  5.]\n",
      " [ 6.  7.  8.  9. 10.]]\n",
      "[1.  2.5 4.  5.5 7.  8.5]\n"
     ]
    }
   ],
   "source": [
    "one_dimen_array = np.array([1., 2., 3., 4., 5.])\n",
    "two_dimen_array = np.array([[1., 2., 3., 4., 5.],\n",
    "                           [6., 7., 8., 9., 10.]])\n",
    "sequency_array = np.arange(start=1, stop=10, step=1.5, dtype=np.float32)\n",
    "\n",
    "print(one_dimen_array)\n",
    "print(two_dimen_array)\n",
    "print(sequency_array)\n"
   ]
  },
  {
   "cell_type": "markdown",
   "metadata": {},
   "source": [
    "### np.random"
   ]
  },
  {
   "cell_type": "markdown",
   "metadata": {},
   "source": [
    "#### randint"
   ]
  },
  {
   "cell_type": "code",
   "execution_count": 5,
   "metadata": {},
   "outputs": [
    {
     "name": "stdout",
     "output_type": "stream",
     "text": [
      "[1 4 2 4 8 0]\n"
     ]
    }
   ],
   "source": [
    "random_array = np.random.randint(low=0, high=10, size=(6,))\n",
    "print(random_array)\n",
    "\n"
   ]
  },
  {
   "cell_type": "markdown",
   "metadata": {},
   "source": [
    "#### random"
   ]
  },
  {
   "cell_type": "code",
   "execution_count": 6,
   "metadata": {},
   "outputs": [
    {
     "name": "stdout",
     "output_type": "stream",
     "text": [
      "[0.20859968 0.89731533 0.4787475  0.54855553 0.44319939 0.25569421]\n"
     ]
    }
   ],
   "source": [
    "random_float_array = np.random.random(size=(6,))\n",
    "print(random_float_array)\n",
    "\n",
    "\n"
   ]
  },
  {
   "cell_type": "markdown",
   "metadata": {},
   "source": [
    "### Mathematical operations"
   ]
  },
  {
   "cell_type": "code",
   "execution_count": 7,
   "metadata": {},
   "outputs": [
    {
     "name": "stdout",
     "output_type": "stream",
     "text": [
      "[ 3  6  4  6 10  2]\n"
     ]
    }
   ],
   "source": [
    "add2_array = random_array + 2\n",
    "print(add2_array)\n",
    "\n",
    "\n"
   ]
  },
  {
   "cell_type": "code",
   "execution_count": 8,
   "metadata": {},
   "outputs": [
    {
     "name": "stdout",
     "output_type": "stream",
     "text": [
      "[ 2  8  4  8 16  0]\n"
     ]
    }
   ],
   "source": [
    "mul2_array = random_array * 2\n",
    "print(mul2_array)\n",
    "\n"
   ]
  },
  {
   "cell_type": "markdown",
   "metadata": {},
   "source": [
    "## Additional"
   ]
  },
  {
   "cell_type": "markdown",
   "metadata": {},
   "source": [
    "#### array create"
   ]
  },
  {
   "cell_type": "code",
   "execution_count": 15,
   "metadata": {},
   "outputs": [
    {
     "name": "stdout",
     "output_type": "stream",
     "text": [
      "[0. 0. 0. 0. 0. 0.]\n",
      "[1. 1. 1. 1. 1. 1.]\n",
      "[[10 10 10]\n",
      " [10 10 10]\n",
      " [10 10 10]\n",
      " [10 10 10]\n",
      " [10 10 10]\n",
      " [10 10 10]]\n",
      "[[1. 0. 0.]\n",
      " [0. 1. 0.]\n",
      " [0. 0. 1.]\n",
      " [0. 0. 0.]\n",
      " [0. 0. 0.]\n",
      " [0. 0. 0.]]\n"
     ]
    }
   ],
   "source": [
    "zero_array = np.zeros(shape=(6,))\n",
    "one_array = np.ones(shape=(6,))\n",
    "full_array = np.full(shape=(6,3), fill_value=10)\n",
    "eye_array = np.eye(N=6, M=3, k=0)\n",
    "\n",
    "print(zero_array)\n",
    "print(one_array)\n",
    "print(full_array)\n",
    "print(eye_array)\n",
    "\n"
   ]
  },
  {
   "cell_type": "markdown",
   "metadata": {},
   "source": [
    "#### array operate"
   ]
  },
  {
   "cell_type": "code",
   "execution_count": 23,
   "metadata": {},
   "outputs": [
    {
     "name": "stdout",
     "output_type": "stream",
     "text": [
      "[[0.73939341 0.77044428]\n",
      " [0.92590232 0.81131879]\n",
      " [0.81043486 0.63591717]\n",
      " [0.14190915 0.27529566]\n",
      " [0.9423473  0.38607516]\n",
      " [0.71870483 0.94429567]]\n",
      "[[0.73939341 0.77044428 0.92590232 0.81131879 0.81043486 0.63591717\n",
      "  0.14190915 0.27529566 0.9423473  0.38607516 0.71870483 0.94429567]]\n"
     ]
    }
   ],
   "source": [
    "a = np.random.random(size=(6, 2))\n",
    "print(a)    \n",
    "print(np.reshape(a, newshape=(1, 12)))\n"
   ]
  },
  {
   "cell_type": "code",
   "execution_count": 22,
   "metadata": {},
   "outputs": [
    {
     "data": {
      "text/plain": [
       "array([0.58817237, 0.52731479, 0.51802361, 0.49538732, 0.64495599,\n",
       "       0.74612155, 0.54112072, 0.80458088, 0.88517446, 0.21811101,\n",
       "       0.07416229, 0.20264008])"
      ]
     },
     "execution_count": 22,
     "metadata": {},
     "output_type": "execute_result"
    }
   ],
   "source": [
    "np.ravel(a)"
   ]
  },
  {
   "cell_type": "code",
   "execution_count": 24,
   "metadata": {},
   "outputs": [
    {
     "data": {
      "text/plain": [
       "array([[0.73939341, 0.92590232, 0.81043486, 0.14190915, 0.9423473 ,\n",
       "        0.71870483],\n",
       "       [0.77044428, 0.81131879, 0.63591717, 0.27529566, 0.38607516,\n",
       "        0.94429567]])"
      ]
     },
     "execution_count": 24,
     "metadata": {},
     "output_type": "execute_result"
    }
   ],
   "source": [
    "np.transpose(a)"
   ]
  },
  {
   "cell_type": "markdown",
   "metadata": {},
   "source": [
    "#### mathematical operate"
   ]
  },
  {
   "cell_type": "code",
   "execution_count": 30,
   "metadata": {},
   "outputs": [
    {
     "name": "stdout",
     "output_type": "stream",
     "text": [
      "[[1.72841907 1.13411554]\n",
      " [1.05189361 1.67206679]\n",
      " [1.4226603  1.29103983]\n",
      " [0.59040815 0.7322671 ]\n",
      " [1.80845001 1.20706231]\n",
      " [1.53464611 1.4645267 ]]\n",
      "[[-0.24963224  0.40677302]\n",
      " [ 0.79991102 -0.04942922]\n",
      " [ 0.19820943 -0.01920549]\n",
      " [-0.30658985 -0.18167579]\n",
      " [ 0.0762446  -0.43491199]\n",
      " [-0.09723645  0.42406464]]\n",
      "[[0.73127905 0.28018844]\n",
      " [0.11665564 0.69834103]\n",
      " [0.49616884 0.41660375]\n",
      " [0.06364611 0.12580225]\n",
      " [0.81616955 0.31696275]\n",
      " [0.58642094 0.49125191]]\n",
      "[[0.74759781 2.11851849]\n",
      " [7.34893857 0.94257411]\n",
      " [1.32375236 0.97068414]\n",
      " [0.31640906 0.60243514]\n",
      " [1.08803183 0.47025725]\n",
      " [0.8808291  1.81514677]]\n",
      "[[0.38525974 0.22046709 0.75555226]\n",
      " [0.47234478 0.25637777 0.84232533]\n",
      " [0.40855713 0.21487698 0.68707241]\n",
      " [0.08232374 0.05867185 0.23120779]\n",
      " [0.4518135  0.20449101 0.55988464]\n",
      " [0.38733406 0.23938383 0.86659478]]\n"
     ]
    }
   ],
   "source": [
    "b = np.random.random(size=(6, 2))\n",
    "print(np.add(a, b))\n",
    "print(np.subtract(a, b))\n",
    "print(np.multiply(a, b))\n",
    "print(np.divide(a, b))\n",
    "c = np.random.random(size=(2, 3))\n",
    "print(np.dot(a, c))\n",
    "\n"
   ]
  },
  {
   "cell_type": "markdown",
   "metadata": {},
   "source": [
    "#### statistics function"
   ]
  },
  {
   "cell_type": "code",
   "execution_count": 31,
   "metadata": {},
   "outputs": [
    {
     "name": "stdout",
     "output_type": "stream",
     "text": [
      "0.6751698829068719\n",
      "0.7549188453932838\n",
      "0.2562538552439034\n",
      "0.0656660383273634\n",
      "8.102038594882462\n"
     ]
    }
   ],
   "source": [
    "print(np.mean(a))\n",
    "print(np.median(a))\n",
    "print(np.std(a))\n",
    "print(np.var(a))\n",
    "print(np.sum(a))"
   ]
  },
  {
   "cell_type": "markdown",
   "metadata": {},
   "source": [
    "#### linear algebra"
   ]
  },
  {
   "cell_type": "code",
   "execution_count": 33,
   "metadata": {},
   "outputs": [
    {
     "name": "stdout",
     "output_type": "stream",
     "text": [
      "-2.0000000000000004\n",
      "[[-2.   1. ]\n",
      " [ 1.5 -0.5]]\n"
     ]
    }
   ],
   "source": [
    "matrix = np.array([[1, 2], [3, 4]])\n",
    "print(np.linalg.det(matrix))\n",
    "print(np.linalg.inv(matrix))\n"
   ]
  },
  {
   "cell_type": "code",
   "execution_count": null,
   "metadata": {},
   "outputs": [],
   "source": []
  }
 ],
 "metadata": {
  "kernelspec": {
   "display_name": "tf",
   "language": "python",
   "name": "python3"
  },
  "language_info": {
   "codemirror_mode": {
    "name": "ipython",
    "version": 3
   },
   "file_extension": ".py",
   "mimetype": "text/x-python",
   "name": "python",
   "nbconvert_exporter": "python",
   "pygments_lexer": "ipython3",
   "version": "3.8.20"
  }
 },
 "nbformat": 4,
 "nbformat_minor": 2
}
